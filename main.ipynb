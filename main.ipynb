{
 "cells": [
  {
   "cell_type": "code",
   "execution_count": 1,
   "metadata": {},
   "outputs": [
    {
     "name": "stdout",
     "output_type": "stream",
     "text": [
      " * Serving Flask app 'pipalert.app'\n",
      " * Debug mode: off\n"
     ]
    }
   ],
   "source": [
    "from pipwatch.redirection import Redirector\n",
    "from contextlib import redirect_stdout\n",
    "from io import StringIO \n",
    "import sys\n",
    "redirector=Redirector(identifier=\"Randomfd\")\n",
    "redirector.initialize()"
   ]
  },
  {
   "cell_type": "code",
   "execution_count": 2,
   "metadata": {},
   "outputs": [
    {
     "name": "stdout",
     "output_type": "stream",
     "text": [
      "Creating new - temp d:\\decprojects\\logs\\Randomfd.txt\n"
     ]
    },
    {
     "name": "stdout",
     "output_type": "stream",
     "text": [
      "d:\\decprojects\n",
      "Randomfd.txt\n",
      "BAKA\n",
      "\n",
      "Randomfd.txt\n",
      "BAKA\n",
      "\n",
      "Randomfd.txt\n",
      "BAKA\n",
      "\n"
     ]
    }
   ],
   "source": [
    "with redirector:\n",
    "    print(\"BAKA\")"
   ]
  }
 ],
 "metadata": {
  "kernelspec": {
   "display_name": "base",
   "language": "python",
   "name": "python3"
  },
  "language_info": {
   "codemirror_mode": {
    "name": "ipython",
    "version": 3
   },
   "file_extension": ".py",
   "mimetype": "text/x-python",
   "name": "python",
   "nbconvert_exporter": "python",
   "pygments_lexer": "ipython3",
   "version": "3.9.13 (main, Aug 25 2022, 23:51:50) [MSC v.1916 64 bit (AMD64)]"
  },
  "orig_nbformat": 4,
  "vscode": {
   "interpreter": {
    "hash": "ff4f85d6e04298634172ac5d8264e7e9b556b95639fe52ebb9425c4d4cba0c9c"
   }
  }
 },
 "nbformat": 4,
 "nbformat_minor": 2
}
